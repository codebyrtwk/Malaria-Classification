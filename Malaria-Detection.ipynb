{
 "cells": [
  {
   "cell_type": "markdown",
   "metadata": {},
   "source": [
    "## Creating CNN Using Scratch And Transfer Learning"
   ]
  },
  {
   "cell_type": "code",
   "execution_count": 1,
   "metadata": {},
   "outputs": [
    {
     "name": "stdout",
     "output_type": "stream",
     "text": [
      "INFO:tensorflow:Enabling eager execution\n",
      "INFO:tensorflow:Enabling v2 tensorshape\n",
      "INFO:tensorflow:Enabling resource variables\n",
      "INFO:tensorflow:Enabling tensor equality\n",
      "INFO:tensorflow:Enabling control flow v2\n"
     ]
    }
   ],
   "source": [
    "# import the libraries as shown below\n",
    "\n",
    "from tensorflow.keras.layers import Input, Lambda, Dense, Flatten,Conv2D\n",
    "from tensorflow.keras.models import Model\n",
    "from tensorflow.keras.applications.vgg19 import VGG19\n",
    "from tensorflow.keras.applications.resnet50 import preprocess_input\n",
    "from tensorflow.keras.preprocessing import image\n",
    "from tensorflow.keras.preprocessing.image import ImageDataGenerator,load_img\n",
    "from tensorflow.keras.models import Sequential\n",
    "import numpy as np\n",
    "from glob import glob\n",
    "import matplotlib.pyplot as plt"
   ]
  },
  {
   "cell_type": "code",
   "execution_count": 2,
   "metadata": {},
   "outputs": [],
   "source": [
    "# re-size all the images to this\n",
    "IMAGE_SIZE = [224, 224]\n",
    "\n",
    "train_path = 'cell_images/Train'\n",
    "valid_path = 'cell_images/Test'\n"
   ]
  },
  {
   "cell_type": "code",
   "execution_count": 3,
   "metadata": {},
   "outputs": [],
   "source": [
    "# Import the Vgg 16 library as shown below and add preprocessing layer to the front of VGG\n",
    "# Here we will be using imagenet weights\n",
    "\n",
    "mobilnet = VGG19(input_shape=IMAGE_SIZE + [3], weights='imagenet', include_top=False)\n",
    "\n",
    "\n"
   ]
  },
  {
   "cell_type": "code",
   "execution_count": 4,
   "metadata": {},
   "outputs": [],
   "source": [
    "# don't train existing weights\n",
    "for layer in mobilnet.layers:\n",
    "    layer.trainable = False"
   ]
  },
  {
   "cell_type": "code",
   "execution_count": 5,
   "metadata": {},
   "outputs": [],
   "source": [
    "  # useful for getting number of output classes\n",
    "folders = glob('Dataset/Train/*')"
   ]
  },
  {
   "cell_type": "code",
   "execution_count": 6,
   "metadata": {},
   "outputs": [
    {
     "data": {
      "text/plain": [
       "[]"
      ]
     },
     "execution_count": 6,
     "metadata": {},
     "output_type": "execute_result"
    }
   ],
   "source": [
    "folders"
   ]
  },
  {
   "cell_type": "code",
   "execution_count": 7,
   "metadata": {},
   "outputs": [],
   "source": [
    "# our layers - you can add more if you want\n",
    "x = Flatten()(mobilnet.output)"
   ]
  },
  {
   "cell_type": "code",
   "execution_count": 8,
   "metadata": {},
   "outputs": [],
   "source": [
    "prediction = Dense(len(folders), activation='softmax')(x)\n",
    "\n",
    "# create a model object\n",
    "model = Model(inputs=mobilnet.input, outputs=prediction)"
   ]
  },
  {
   "cell_type": "code",
   "execution_count": 9,
   "metadata": {},
   "outputs": [
    {
     "name": "stdout",
     "output_type": "stream",
     "text": [
      "Model: \"model\"\n",
      "_________________________________________________________________\n",
      "Layer (type)                 Output Shape              Param #   \n",
      "=================================================================\n",
      "input_1 (InputLayer)         [(None, 224, 224, 3)]     0         \n",
      "_________________________________________________________________\n",
      "block1_conv1 (Conv2D)        (None, 224, 224, 64)      1792      \n",
      "_________________________________________________________________\n",
      "block1_conv2 (Conv2D)        (None, 224, 224, 64)      36928     \n",
      "_________________________________________________________________\n",
      "block1_pool (MaxPooling2D)   (None, 112, 112, 64)      0         \n",
      "_________________________________________________________________\n",
      "block2_conv1 (Conv2D)        (None, 112, 112, 128)     73856     \n",
      "_________________________________________________________________\n",
      "block2_conv2 (Conv2D)        (None, 112, 112, 128)     147584    \n",
      "_________________________________________________________________\n",
      "block2_pool (MaxPooling2D)   (None, 56, 56, 128)       0         \n",
      "_________________________________________________________________\n",
      "block3_conv1 (Conv2D)        (None, 56, 56, 256)       295168    \n",
      "_________________________________________________________________\n",
      "block3_conv2 (Conv2D)        (None, 56, 56, 256)       590080    \n",
      "_________________________________________________________________\n",
      "block3_conv3 (Conv2D)        (None, 56, 56, 256)       590080    \n",
      "_________________________________________________________________\n",
      "block3_conv4 (Conv2D)        (None, 56, 56, 256)       590080    \n",
      "_________________________________________________________________\n",
      "block3_pool (MaxPooling2D)   (None, 28, 28, 256)       0         \n",
      "_________________________________________________________________\n",
      "block4_conv1 (Conv2D)        (None, 28, 28, 512)       1180160   \n",
      "_________________________________________________________________\n",
      "block4_conv2 (Conv2D)        (None, 28, 28, 512)       2359808   \n",
      "_________________________________________________________________\n",
      "block4_conv3 (Conv2D)        (None, 28, 28, 512)       2359808   \n",
      "_________________________________________________________________\n",
      "block4_conv4 (Conv2D)        (None, 28, 28, 512)       2359808   \n",
      "_________________________________________________________________\n",
      "block4_pool (MaxPooling2D)   (None, 14, 14, 512)       0         \n",
      "_________________________________________________________________\n",
      "block5_conv1 (Conv2D)        (None, 14, 14, 512)       2359808   \n",
      "_________________________________________________________________\n",
      "block5_conv2 (Conv2D)        (None, 14, 14, 512)       2359808   \n",
      "_________________________________________________________________\n",
      "block5_conv3 (Conv2D)        (None, 14, 14, 512)       2359808   \n",
      "_________________________________________________________________\n",
      "block5_conv4 (Conv2D)        (None, 14, 14, 512)       2359808   \n",
      "_________________________________________________________________\n",
      "block5_pool (MaxPooling2D)   (None, 7, 7, 512)         0         \n",
      "_________________________________________________________________\n",
      "flatten (Flatten)            (None, 25088)             0         \n",
      "_________________________________________________________________\n",
      "dense (Dense)                (None, 0)                 0         \n",
      "=================================================================\n",
      "Total params: 20,024,384\n",
      "Trainable params: 0\n",
      "Non-trainable params: 20,024,384\n",
      "_________________________________________________________________\n"
     ]
    }
   ],
   "source": [
    "\n",
    "# view the structure of the model\n",
    "model.summary()\n"
   ]
  },
  {
   "cell_type": "code",
   "execution_count": 10,
   "metadata": {},
   "outputs": [],
   "source": [
    "from tensorflow.keras.layers import MaxPooling2D"
   ]
  },
  {
   "cell_type": "code",
   "execution_count": 11,
   "metadata": {},
   "outputs": [
    {
     "name": "stdout",
     "output_type": "stream",
     "text": [
      "Model: \"sequential\"\n",
      "_________________________________________________________________\n",
      "Layer (type)                 Output Shape              Param #   \n",
      "=================================================================\n",
      "conv2d (Conv2D)              (None, 224, 224, 16)      208       \n",
      "_________________________________________________________________\n",
      "max_pooling2d (MaxPooling2D) (None, 112, 112, 16)      0         \n",
      "_________________________________________________________________\n",
      "conv2d_1 (Conv2D)            (None, 112, 112, 32)      2080      \n",
      "_________________________________________________________________\n",
      "max_pooling2d_1 (MaxPooling2 (None, 56, 56, 32)        0         \n",
      "_________________________________________________________________\n",
      "conv2d_2 (Conv2D)            (None, 56, 56, 64)        8256      \n",
      "_________________________________________________________________\n",
      "max_pooling2d_2 (MaxPooling2 (None, 28, 28, 64)        0         \n",
      "_________________________________________________________________\n",
      "flatten_1 (Flatten)          (None, 50176)             0         \n",
      "_________________________________________________________________\n",
      "dense_1 (Dense)              (None, 500)               25088500  \n",
      "_________________________________________________________________\n",
      "dense_2 (Dense)              (None, 2)                 1002      \n",
      "=================================================================\n",
      "Total params: 25,100,046\n",
      "Trainable params: 25,100,046\n",
      "Non-trainable params: 0\n",
      "_________________________________________________________________\n"
     ]
    }
   ],
   "source": [
    "### Create Model from scratch using CNN\n",
    "model=Sequential()\n",
    "model.add(Conv2D(filters=16,kernel_size=2,padding=\"same\",activation=\"relu\",input_shape=(224,224,3)))\n",
    "model.add(MaxPooling2D(pool_size=2))\n",
    "model.add(Conv2D(filters=32,kernel_size=2,padding=\"same\",activation =\"relu\"))\n",
    "model.add(MaxPooling2D(pool_size=2))\n",
    "model.add(Conv2D(filters=64,kernel_size=2,padding=\"same\",activation=\"relu\"))\n",
    "model.add(MaxPooling2D(pool_size=2))\n",
    "model.add(Flatten())\n",
    "model.add(Dense(500,activation=\"relu\"))\n",
    "model.add(Dense(2,activation=\"softmax\"))\n",
    "model.summary()"
   ]
  },
  {
   "cell_type": "code",
   "execution_count": 12,
   "metadata": {},
   "outputs": [],
   "source": [
    "# tell the model what cost and optimization method to use\n",
    "model.compile(\n",
    "  loss='categorical_crossentropy',\n",
    "  optimizer='adam',\n",
    "  metrics=['accuracy']\n",
    ")\n"
   ]
  },
  {
   "cell_type": "code",
   "execution_count": 13,
   "metadata": {},
   "outputs": [],
   "source": [
    "# Use the Image Data Generator to import the images from the dataset\n",
    "from tensorflow.keras.preprocessing.image import ImageDataGenerator\n",
    "\n",
    "train_datagen = ImageDataGenerator(rescale = 1./255,\n",
    "                                   shear_range = 0.2,\n",
    "                                   zoom_range = 0.2,\n",
    "                                   horizontal_flip = True)\n",
    "\n",
    "test_datagen = ImageDataGenerator(rescale = 1./255)"
   ]
  },
  {
   "cell_type": "code",
   "execution_count": 14,
   "metadata": {},
   "outputs": [
    {
     "name": "stdout",
     "output_type": "stream",
     "text": [
      "Found 416 images belonging to 2 classes.\n"
     ]
    }
   ],
   "source": [
    "# Make sure you provide the same target size as initialied for the image size\n",
    "training_set = train_datagen.flow_from_directory('Dataset/Dataset/Train',\n",
    "                                                 target_size = (224, 224),\n",
    "                                                 batch_size = 32,\n",
    "                                                 class_mode = 'categorical')"
   ]
  },
  {
   "cell_type": "code",
   "execution_count": 15,
   "metadata": {},
   "outputs": [
    {
     "data": {
      "text/plain": [
       "<tensorflow.python.keras.preprocessing.image.DirectoryIterator at 0x18c1a8deb20>"
      ]
     },
     "execution_count": 15,
     "metadata": {},
     "output_type": "execute_result"
    }
   ],
   "source": [
    "training_set"
   ]
  },
  {
   "cell_type": "code",
   "execution_count": 16,
   "metadata": {},
   "outputs": [
    {
     "name": "stdout",
     "output_type": "stream",
     "text": [
      "Found 134 images belonging to 2 classes.\n"
     ]
    }
   ],
   "source": [
    "test_set = test_datagen.flow_from_directory('Dataset/Dataset/Test',\n",
    "                                            target_size = (224, 224),\n",
    "                                            batch_size = 32,\n",
    "                                            class_mode = 'categorical')"
   ]
  },
  {
   "cell_type": "code",
   "execution_count": 17,
   "metadata": {
    "scrolled": true
   },
   "outputs": [
    {
     "name": "stderr",
     "output_type": "stream",
     "text": [
      "c:\\python39\\lib\\site-packages\\tensorflow\\python\\keras\\engine\\training.py:1940: UserWarning: `Model.fit_generator` is deprecated and will be removed in a future version. Please use `Model.fit`, which supports generators.\n",
      "  warnings.warn('`Model.fit_generator` is deprecated and '\n"
     ]
    },
    {
     "name": "stdout",
     "output_type": "stream",
     "text": [
      "Epoch 1/20\n",
      "13/13 [==============================] - 15s 1s/step - loss: 1.6078 - accuracy: 0.6070 - val_loss: 0.7130 - val_accuracy: 0.5597\n",
      "Epoch 2/20\n",
      "13/13 [==============================] - 12s 930ms/step - loss: 0.6214 - accuracy: 0.6276 - val_loss: 0.7920 - val_accuracy: 0.3731\n",
      "Epoch 3/20\n",
      "13/13 [==============================] - 12s 935ms/step - loss: 0.5114 - accuracy: 0.7445 - val_loss: 0.9385 - val_accuracy: 0.3060\n",
      "Epoch 4/20\n",
      "13/13 [==============================] - 13s 976ms/step - loss: 0.4540 - accuracy: 0.7558 - val_loss: 1.2475 - val_accuracy: 0.3507\n",
      "Epoch 5/20\n",
      "13/13 [==============================] - 13s 988ms/step - loss: 0.5381 - accuracy: 0.7132 - val_loss: 1.0127 - val_accuracy: 0.4254\n",
      "Epoch 6/20\n",
      "13/13 [==============================] - 13s 1s/step - loss: 0.4551 - accuracy: 0.7552 - val_loss: 1.1405 - val_accuracy: 0.6269\n",
      "Epoch 7/20\n",
      "13/13 [==============================] - 13s 1s/step - loss: 0.5298 - accuracy: 0.7681 - val_loss: 0.8269 - val_accuracy: 0.4254\n",
      "Epoch 8/20\n",
      "13/13 [==============================] - 14s 1s/step - loss: 0.4440 - accuracy: 0.7798 - val_loss: 1.1473 - val_accuracy: 0.4030\n",
      "Epoch 9/20\n",
      "13/13 [==============================] - 14s 1s/step - loss: 0.4070 - accuracy: 0.7870 - val_loss: 0.8426 - val_accuracy: 0.3955\n",
      "Epoch 10/20\n",
      "13/13 [==============================] - 13s 999ms/step - loss: 0.4071 - accuracy: 0.7998 - val_loss: 0.9499 - val_accuracy: 0.3806\n",
      "Epoch 11/20\n",
      "13/13 [==============================] - 14s 1s/step - loss: 0.3758 - accuracy: 0.8225 - val_loss: 0.8789 - val_accuracy: 0.4179\n",
      "Epoch 12/20\n",
      "13/13 [==============================] - 15s 1s/step - loss: 0.4884 - accuracy: 0.7499 - val_loss: 0.9525 - val_accuracy: 0.5299\n",
      "Epoch 13/20\n",
      "13/13 [==============================] - 14s 1s/step - loss: 0.3635 - accuracy: 0.8164 - val_loss: 0.7507 - val_accuracy: 0.5299\n",
      "Epoch 14/20\n",
      "13/13 [==============================] - 14s 1s/step - loss: 0.4206 - accuracy: 0.7975 - val_loss: 0.5752 - val_accuracy: 0.6716\n",
      "Epoch 15/20\n",
      "13/13 [==============================] - 14s 1s/step - loss: 0.3793 - accuracy: 0.8428 - val_loss: 1.0362 - val_accuracy: 0.4254\n",
      "Epoch 16/20\n",
      "13/13 [==============================] - 14s 1s/step - loss: 0.3549 - accuracy: 0.8537 - val_loss: 1.0297 - val_accuracy: 0.4552\n",
      "Epoch 17/20\n",
      "13/13 [==============================] - 14s 1s/step - loss: 0.3896 - accuracy: 0.8440 - val_loss: 0.6803 - val_accuracy: 0.5821\n",
      "Epoch 18/20\n",
      "13/13 [==============================] - 16s 1s/step - loss: 0.3355 - accuracy: 0.8557 - val_loss: 0.7196 - val_accuracy: 0.6045\n",
      "Epoch 19/20\n",
      "13/13 [==============================] - 15s 1s/step - loss: 0.3024 - accuracy: 0.9015 - val_loss: 0.7204 - val_accuracy: 0.6045\n",
      "Epoch 20/20\n",
      "13/13 [==============================] - 14s 1s/step - loss: 0.3403 - accuracy: 0.8567 - val_loss: 0.6933 - val_accuracy: 0.6418\n"
     ]
    }
   ],
   "source": [
    "# fit the model\n",
    "# Run the cell. It will take some time to execute\n",
    "r = model.fit_generator(\n",
    "  training_set,\n",
    "  validation_data=test_set,\n",
    "  epochs=20,\n",
    "  steps_per_epoch=len(training_set),\n",
    "  validation_steps=len(test_set)\n",
    ")"
   ]
  },
  {
   "cell_type": "code",
   "execution_count": null,
   "metadata": {},
   "outputs": [],
   "source": []
  },
  {
   "cell_type": "code",
   "execution_count": 18,
   "metadata": {},
   "outputs": [
    {
     "data": {
      "image/png": "[encoded data removed]",
      "text/plain": [
       "<Figure size 432x288 with 1 Axes>"
      ]
     },
     "metadata": {
      "needs_background": "light"
     },
     "output_type": "display_data"
    },
    {
     "data": {
      "image/png": "[encoded data removed]",
      "text/plain": [
       "<Figure size 432x288 with 1 Axes>"
      ]
     },
     "metadata": {
      "needs_background": "light"
     },
     "output_type": "display_data"
    },
    {
     "data": {
      "text/plain": [
       "<Figure size 432x288 with 0 Axes>"
      ]
     },
     "metadata": {},
     "output_type": "display_data"
    }
   ],
   "source": [
    "# plot the loss\n",
    "plt.plot(r.history['loss'], label='train loss')\n",
    "plt.plot(r.history['val_loss'], label='val loss')\n",
    "plt.legend()\n",
    "plt.show()\n",
    "plt.savefig('LossVal_loss')\n",
    "\n",
    "# plot the accuracy\n",
    "plt.plot(r.history['accuracy'], label='train acc')\n",
    "plt.plot(r.history['val_accuracy'], label='val acc')\n",
    "plt.legend()\n",
    "plt.show()\n",
    "plt.savefig('AccVal_acc')"
   ]
  },
  {
   "cell_type": "code",
   "execution_count": 19,
   "metadata": {},
   "outputs": [],
   "source": [
    "# save it as a h5 file\n",
    "\n",
    "\n",
    "from tensorflow.keras.models import load_model\n",
    "\n",
    "model.save('model_vgg19.h5')"
   ]
  },
  {
   "cell_type": "code",
   "execution_count": null,
   "metadata": {},
   "outputs": [],
   "source": []
  },
  {
   "cell_type": "code",
   "execution_count": 20,
   "metadata": {},
   "outputs": [],
   "source": [
    "\n",
    "y_pred = model.predict(test_set)\n"
   ]
  },
  {
   "cell_type": "code",
   "execution_count": 21,
   "metadata": {},
   "outputs": [
    {
     "data": {
      "text/plain": [
       "array([[0.22512293, 0.77487713],\n",
       "       [0.38683763, 0.61316234],\n",
       "       [0.19473256, 0.80526745],\n",
       "       [0.22605132, 0.7739487 ],\n",
       "       [0.11630137, 0.8836986 ],\n",
       "       [0.70609486, 0.29390517],\n",
       "       [0.34196565, 0.6580343 ],\n",
       "       [0.2807536 , 0.7192464 ],\n",
       "       [0.16133805, 0.83866197],\n",
       "       [0.16805811, 0.83194184],\n",
       "       [0.37813497, 0.6218651 ],\n",
       "       [0.40621635, 0.5937837 ],\n",
       "       [0.2855061 , 0.71449393],\n",
       "       [0.43902707, 0.5609729 ],\n",
       "       [0.71247226, 0.28752768],\n",
       "       [0.2330332 , 0.7669669 ],\n",
       "       [0.59431326, 0.4056868 ],\n",
       "       [0.3952084 , 0.60479164],\n",
       "       [0.29795694, 0.70204306],\n",
       "       [0.6111225 , 0.3888775 ],\n",
       "       [0.585824  , 0.414176  ],\n",
       "       [0.7709015 , 0.2290985 ],\n",
       "       [0.50692683, 0.49307314],\n",
       "       [0.344303  , 0.65569705],\n",
       "       [0.48474702, 0.51525295],\n",
       "       [0.86854154, 0.13145845],\n",
       "       [0.33084062, 0.6691593 ],\n",
       "       [0.29865617, 0.70134383],\n",
       "       [0.09933114, 0.90066886],\n",
       "       [0.26424497, 0.735755  ],\n",
       "       [0.33723342, 0.6627666 ],\n",
       "       [0.09801439, 0.90198565],\n",
       "       [0.24764085, 0.7523592 ],\n",
       "       [0.46023533, 0.53976464],\n",
       "       [0.1106808 , 0.8893192 ],\n",
       "       [0.7981146 , 0.2018854 ],\n",
       "       [0.97706556, 0.02293448],\n",
       "       [0.9769374 , 0.02306256],\n",
       "       [0.32513624, 0.67486376],\n",
       "       [0.28537792, 0.714622  ],\n",
       "       [0.16753672, 0.8324633 ],\n",
       "       [0.30156133, 0.6984387 ],\n",
       "       [0.5586657 , 0.44133425],\n",
       "       [0.17891224, 0.8210878 ],\n",
       "       [0.5019574 , 0.49804255],\n",
       "       [0.28387362, 0.7161264 ],\n",
       "       [0.26688442, 0.7331156 ],\n",
       "       [0.9076634 , 0.09233662],\n",
       "       [0.26334012, 0.7366598 ],\n",
       "       [0.10183657, 0.8981635 ],\n",
       "       [0.50409234, 0.49590763],\n",
       "       [0.16485897, 0.835141  ],\n",
       "       [0.82540315, 0.17459679],\n",
       "       [0.24051079, 0.7594892 ],\n",
       "       [0.21361583, 0.7863841 ],\n",
       "       [0.5167486 , 0.4832514 ],\n",
       "       [0.7439741 , 0.25602588],\n",
       "       [0.73909897, 0.26090103],\n",
       "       [0.25478587, 0.74521416],\n",
       "       [0.6930467 , 0.30695334],\n",
       "       [0.6488618 , 0.35113817],\n",
       "       [0.4530844 , 0.5469156 ],\n",
       "       [0.920711  , 0.07928905],\n",
       "       [0.36226147, 0.63773847],\n",
       "       [0.6546086 , 0.3453913 ],\n",
       "       [0.48764282, 0.5123571 ],\n",
       "       [0.13084425, 0.86915576],\n",
       "       [0.09815931, 0.9018407 ],\n",
       "       [0.23909199, 0.76090807],\n",
       "       [0.16926846, 0.8307316 ],\n",
       "       [0.1674979 , 0.83250207],\n",
       "       [0.8823591 , 0.11764097],\n",
       "       [0.64321333, 0.3567867 ],\n",
       "       [0.3957806 , 0.6042194 ],\n",
       "       [0.74860173, 0.2513982 ],\n",
       "       [0.31530696, 0.684693  ],\n",
       "       [0.15592542, 0.84407455],\n",
       "       [0.34717616, 0.6528238 ],\n",
       "       [0.40600687, 0.5939932 ],\n",
       "       [0.15447663, 0.84552336],\n",
       "       [0.2149094 , 0.78509057],\n",
       "       [0.46011114, 0.53988886],\n",
       "       [0.3403201 , 0.6596799 ],\n",
       "       [0.60583   , 0.39417002],\n",
       "       [0.23301595, 0.76698405],\n",
       "       [0.11588372, 0.88411623],\n",
       "       [0.48821706, 0.51178294],\n",
       "       [0.772509  , 0.22749098],\n",
       "       [0.1059809 , 0.89401907],\n",
       "       [0.75803626, 0.24196377],\n",
       "       [0.20565644, 0.7943436 ],\n",
       "       [0.281672  , 0.71832794],\n",
       "       [0.2552426 , 0.7447574 ],\n",
       "       [0.13642295, 0.86357707],\n",
       "       [0.3941254 , 0.6058746 ],\n",
       "       [0.25398982, 0.7460101 ],\n",
       "       [0.3199427 , 0.6800573 ],\n",
       "       [0.82480466, 0.17519541],\n",
       "       [0.16451658, 0.83548343],\n",
       "       [0.97024024, 0.02975973],\n",
       "       [0.7729036 , 0.22709642],\n",
       "       [0.11376058, 0.8862394 ],\n",
       "       [0.23573586, 0.76426417],\n",
       "       [0.17274341, 0.82725656],\n",
       "       [0.8325021 , 0.1674978 ],\n",
       "       [0.58791625, 0.4120838 ],\n",
       "       [0.45805123, 0.54194874],\n",
       "       [0.58680296, 0.41319698],\n",
       "       [0.4931817 , 0.50681823],\n",
       "       [0.19528002, 0.80472   ],\n",
       "       [0.28561231, 0.71438766],\n",
       "       [0.70817494, 0.29182503],\n",
       "       [0.20952517, 0.7904749 ],\n",
       "       [0.98391706, 0.016083  ],\n",
       "       [0.2381452 , 0.7618548 ],\n",
       "       [0.24683107, 0.75316894],\n",
       "       [0.90920246, 0.09079759],\n",
       "       [0.8090862 , 0.1909138 ],\n",
       "       [0.35682598, 0.64317405],\n",
       "       [0.75865   , 0.24134995],\n",
       "       [0.91537887, 0.08462113],\n",
       "       [0.49114046, 0.5088595 ],\n",
       "       [0.8747505 , 0.12524953],\n",
       "       [0.23602532, 0.7639746 ],\n",
       "       [0.8278747 , 0.1721253 ],\n",
       "       [0.2114326 , 0.78856736],\n",
       "       [0.22309063, 0.77690935],\n",
       "       [0.7182463 , 0.28175378],\n",
       "       [0.9447069 , 0.05529314],\n",
       "       [0.30937555, 0.6906244 ],\n",
       "       [0.32393533, 0.67606467],\n",
       "       [0.5852916 , 0.4147084 ],\n",
       "       [0.7042442 , 0.29575586],\n",
       "       [0.10798389, 0.8920161 ]], dtype=float32)"
      ]
     },
     "execution_count": 21,
     "metadata": {},
     "output_type": "execute_result"
    }
   ],
   "source": [
    "y_pred"
   ]
  },
  {
   "cell_type": "code",
   "execution_count": 22,
   "metadata": {},
   "outputs": [],
   "source": [
    "import numpy as np\n",
    "y_pred = np.argmax(y_pred, axis=1)"
   ]
  },
  {
   "cell_type": "code",
   "execution_count": 23,
   "metadata": {},
   "outputs": [
    {
     "data": {
      "text/plain": [
       "array([1, 1, 1, 1, 1, 0, 1, 1, 1, 1, 1, 1, 1, 1, 0, 1, 0, 1, 1, 0, 0, 0,\n",
       "       0, 1, 1, 0, 1, 1, 1, 1, 1, 1, 1, 1, 1, 0, 0, 0, 1, 1, 1, 1, 0, 1,\n",
       "       0, 1, 1, 0, 1, 1, 0, 1, 0, 1, 1, 0, 0, 0, 1, 0, 0, 1, 0, 1, 0, 1,\n",
       "       1, 1, 1, 1, 1, 0, 0, 1, 0, 1, 1, 1, 1, 1, 1, 1, 1, 0, 1, 1, 1, 0,\n",
       "       1, 0, 1, 1, 1, 1, 1, 1, 1, 0, 1, 0, 0, 1, 1, 1, 0, 0, 1, 0, 1, 1,\n",
       "       1, 0, 1, 0, 1, 1, 0, 0, 1, 0, 0, 1, 0, 1, 0, 1, 1, 0, 0, 1, 1, 0,\n",
       "       0, 1], dtype=int64)"
      ]
     },
     "execution_count": 23,
     "metadata": {},
     "output_type": "execute_result"
    }
   ],
   "source": [
    "y_pred"
   ]
  },
  {
   "cell_type": "code",
   "execution_count": null,
   "metadata": {},
   "outputs": [],
   "source": []
  },
  {
   "cell_type": "code",
   "execution_count": null,
   "metadata": {},
   "outputs": [],
   "source": []
  },
  {
   "cell_type": "code",
   "execution_count": null,
   "metadata": {},
   "outputs": [],
   "source": []
  },
  {
   "cell_type": "code",
   "execution_count": null,
   "metadata": {},
   "outputs": [],
   "source": []
  },
  {
   "cell_type": "code",
   "execution_count": null,
   "metadata": {},
   "outputs": [],
   "source": [
    "\n"
   ]
  },
  {
   "cell_type": "code",
   "execution_count": null,
   "metadata": {},
   "outputs": [],
   "source": []
  },
  {
   "cell_type": "code",
   "execution_count": null,
   "metadata": {},
   "outputs": [],
   "source": []
  },
  {
   "cell_type": "code",
   "execution_count": null,
   "metadata": {},
   "outputs": [],
   "source": []
  },
  {
   "cell_type": "code",
   "execution_count": null,
   "metadata": {},
   "outputs": [],
   "source": []
  },
  {
   "cell_type": "code",
   "execution_count": null,
   "metadata": {},
   "outputs": [],
   "source": []
  },
  {
   "cell_type": "code",
   "execution_count": null,
   "metadata": {},
   "outputs": [],
   "source": []
  },
  {
   "cell_type": "code",
   "execution_count": null,
   "metadata": {},
   "outputs": [],
   "source": []
  },
  {
   "cell_type": "code",
   "execution_count": null,
   "metadata": {},
   "outputs": [],
   "source": []
  },
  {
   "cell_type": "code",
   "execution_count": null,
   "metadata": {},
   "outputs": [],
   "source": []
  }
 ],
 "metadata": {
  "kernelspec": {
   "display_name": "Python 3",
   "language": "python",
   "name": "python3"
  },
  "language_info": {
   "codemirror_mode": {
    "name": "ipython",
    "version": 3
   },
   "file_extension": ".py",
   "mimetype": "text/x-python",
   "name": "python",
   "nbconvert_exporter": "python",
   "pygments_lexer": "ipython3",
   "version": "3.9.2"
  }
 },
 "nbformat": 4,
 "nbformat_minor": 2
}
